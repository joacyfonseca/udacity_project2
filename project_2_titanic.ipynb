{
 "cells": [
  {
   "cell_type": "markdown",
   "metadata": {},
   "source": [
    "# Projeto 2 - Fundamentos de Data Science 1"
   ]
  },
  {
   "cell_type": "markdown",
   "metadata": {},
   "source": [
    "## Resumo\n",
    "#### Em 15 de abril de 1912, o RMS Titanic afundou algumas horas depois de colidir com um gigantesco iceberg. Muitos filmes foram feitos desde então para contar a história do navio “impossível de naufragar” que não conseguiu concluir sequer a sua viagem inaugural. O grande navio levou consigo cerca de 1500 vidas entre tripulação e passageiros e foi um dos maiores desastres da época. \n",
    "\n",
    "## Origem da base de dados\n",
    "#### Essa base de dados faz parte do projeto de conclusão do Nanodegree de Fundamentos de Data Science 1 da Udacity, o conjunto de dados tem sua origem no site Kaggle, de onde foram obtidos e com baso nesses dados levantamos algumas perguntas.\n",
    "\n",
    "### Links:\n",
    "[Site de origem dos DataSet](https://www.kaggle.com/c/titanic/data)\n",
    "\n",
    "**Perguntas:**\n",
    "1. Qual a faixa de idade que mais sobreviveu ?\n",
    "2. Qual foi o sexo que mais sobreviveu ? \n",
    "3. Pessoas com parentes/conjûges sobreviveram mais devido o trabalho em conjunto para sobreviver ?\n",
    "4. Qual a classe que mais sobreviveu ?"
   ]
  },
  {
   "cell_type": "code",
   "execution_count": 1,
   "metadata": {},
   "outputs": [
    {
     "data": {
      "text/html": [
       "<div>\n",
       "<style scoped>\n",
       "    .dataframe tbody tr th:only-of-type {\n",
       "        vertical-align: middle;\n",
       "    }\n",
       "\n",
       "    .dataframe tbody tr th {\n",
       "        vertical-align: top;\n",
       "    }\n",
       "\n",
       "    .dataframe thead th {\n",
       "        text-align: right;\n",
       "    }\n",
       "</style>\n",
       "<table border=\"1\" class=\"dataframe\">\n",
       "  <thead>\n",
       "    <tr style=\"text-align: right;\">\n",
       "      <th></th>\n",
       "      <th>Survived</th>\n",
       "      <th>Pclass</th>\n",
       "      <th>Name</th>\n",
       "      <th>Sex</th>\n",
       "      <th>Age</th>\n",
       "      <th>SibSp</th>\n",
       "      <th>Parch</th>\n",
       "      <th>Ticket</th>\n",
       "      <th>Fare</th>\n",
       "      <th>Cabin</th>\n",
       "      <th>Embarked</th>\n",
       "    </tr>\n",
       "    <tr>\n",
       "      <th>PassengerId</th>\n",
       "      <th></th>\n",
       "      <th></th>\n",
       "      <th></th>\n",
       "      <th></th>\n",
       "      <th></th>\n",
       "      <th></th>\n",
       "      <th></th>\n",
       "      <th></th>\n",
       "      <th></th>\n",
       "      <th></th>\n",
       "      <th></th>\n",
       "    </tr>\n",
       "  </thead>\n",
       "  <tbody>\n",
       "    <tr>\n",
       "      <th>1</th>\n",
       "      <td>0</td>\n",
       "      <td>3</td>\n",
       "      <td>Braund, Mr. Owen Harris</td>\n",
       "      <td>male</td>\n",
       "      <td>22.0</td>\n",
       "      <td>1</td>\n",
       "      <td>0</td>\n",
       "      <td>A/5 21171</td>\n",
       "      <td>7.2500</td>\n",
       "      <td>NaN</td>\n",
       "      <td>S</td>\n",
       "    </tr>\n",
       "    <tr>\n",
       "      <th>2</th>\n",
       "      <td>1</td>\n",
       "      <td>1</td>\n",
       "      <td>Cumings, Mrs. John Bradley (Florence Briggs Th...</td>\n",
       "      <td>female</td>\n",
       "      <td>38.0</td>\n",
       "      <td>1</td>\n",
       "      <td>0</td>\n",
       "      <td>PC 17599</td>\n",
       "      <td>71.2833</td>\n",
       "      <td>C85</td>\n",
       "      <td>C</td>\n",
       "    </tr>\n",
       "    <tr>\n",
       "      <th>3</th>\n",
       "      <td>1</td>\n",
       "      <td>3</td>\n",
       "      <td>Heikkinen, Miss. Laina</td>\n",
       "      <td>female</td>\n",
       "      <td>26.0</td>\n",
       "      <td>0</td>\n",
       "      <td>0</td>\n",
       "      <td>STON/O2. 3101282</td>\n",
       "      <td>7.9250</td>\n",
       "      <td>NaN</td>\n",
       "      <td>S</td>\n",
       "    </tr>\n",
       "    <tr>\n",
       "      <th>4</th>\n",
       "      <td>1</td>\n",
       "      <td>1</td>\n",
       "      <td>Futrelle, Mrs. Jacques Heath (Lily May Peel)</td>\n",
       "      <td>female</td>\n",
       "      <td>35.0</td>\n",
       "      <td>1</td>\n",
       "      <td>0</td>\n",
       "      <td>113803</td>\n",
       "      <td>53.1000</td>\n",
       "      <td>C123</td>\n",
       "      <td>S</td>\n",
       "    </tr>\n",
       "    <tr>\n",
       "      <th>5</th>\n",
       "      <td>0</td>\n",
       "      <td>3</td>\n",
       "      <td>Allen, Mr. William Henry</td>\n",
       "      <td>male</td>\n",
       "      <td>35.0</td>\n",
       "      <td>0</td>\n",
       "      <td>0</td>\n",
       "      <td>373450</td>\n",
       "      <td>8.0500</td>\n",
       "      <td>NaN</td>\n",
       "      <td>S</td>\n",
       "    </tr>\n",
       "  </tbody>\n",
       "</table>\n",
       "</div>"
      ],
      "text/plain": [
       "             Survived  Pclass  \\\n",
       "PassengerId                     \n",
       "1                   0       3   \n",
       "2                   1       1   \n",
       "3                   1       3   \n",
       "4                   1       1   \n",
       "5                   0       3   \n",
       "\n",
       "                                                          Name     Sex   Age  \\\n",
       "PassengerId                                                                    \n",
       "1                                      Braund, Mr. Owen Harris    male  22.0   \n",
       "2            Cumings, Mrs. John Bradley (Florence Briggs Th...  female  38.0   \n",
       "3                                       Heikkinen, Miss. Laina  female  26.0   \n",
       "4                 Futrelle, Mrs. Jacques Heath (Lily May Peel)  female  35.0   \n",
       "5                                     Allen, Mr. William Henry    male  35.0   \n",
       "\n",
       "             SibSp  Parch            Ticket     Fare Cabin Embarked  \n",
       "PassengerId                                                          \n",
       "1                1      0         A/5 21171   7.2500   NaN        S  \n",
       "2                1      0          PC 17599  71.2833   C85        C  \n",
       "3                0      0  STON/O2. 3101282   7.9250   NaN        S  \n",
       "4                1      0            113803  53.1000  C123        S  \n",
       "5                0      0            373450   8.0500   NaN        S  "
      ]
     },
     "execution_count": 1,
     "metadata": {},
     "output_type": "execute_result"
    }
   ],
   "source": [
    "# Fase de importação das bibliotecas pandas, numpy, seaborn e matplotlib, assim como a chamada para executar os gráficos do matplotlib dentro\n",
    "# do Jupyter Notebook e posteriormente o carragemnto do banco de dados e colocação da coluna Passenger ID como index para \n",
    "# que não seja criada outra coluna como index sem necessidade.\n",
    "import seaborn as sns\n",
    "import pandas as pd\n",
    "import numpy as np\n",
    "import matplotlib.pyplot as plt\n",
    "%matplotlib inline \n",
    "\n",
    "df_titanic = pd.read_csv('titanic-data-6.csv', index_col = 'PassengerId')\n",
    "df_titanic.head()"
   ]
  },
  {
   "cell_type": "code",
   "execution_count": 2,
   "metadata": {},
   "outputs": [
    {
     "data": {
      "text/html": [
       "<div>\n",
       "<style scoped>\n",
       "    .dataframe tbody tr th:only-of-type {\n",
       "        vertical-align: middle;\n",
       "    }\n",
       "\n",
       "    .dataframe tbody tr th {\n",
       "        vertical-align: top;\n",
       "    }\n",
       "\n",
       "    .dataframe thead th {\n",
       "        text-align: right;\n",
       "    }\n",
       "</style>\n",
       "<table border=\"1\" class=\"dataframe\">\n",
       "  <thead>\n",
       "    <tr style=\"text-align: right;\">\n",
       "      <th></th>\n",
       "      <th>Survived</th>\n",
       "      <th>Pclass</th>\n",
       "      <th>Name</th>\n",
       "      <th>Sex</th>\n",
       "      <th>Age</th>\n",
       "      <th>SibSp</th>\n",
       "      <th>Parch</th>\n",
       "    </tr>\n",
       "    <tr>\n",
       "      <th>PassengerId</th>\n",
       "      <th></th>\n",
       "      <th></th>\n",
       "      <th></th>\n",
       "      <th></th>\n",
       "      <th></th>\n",
       "      <th></th>\n",
       "      <th></th>\n",
       "    </tr>\n",
       "  </thead>\n",
       "  <tbody>\n",
       "    <tr>\n",
       "      <th>1</th>\n",
       "      <td>0</td>\n",
       "      <td>3</td>\n",
       "      <td>Braund, Mr. Owen Harris</td>\n",
       "      <td>male</td>\n",
       "      <td>22.0</td>\n",
       "      <td>1</td>\n",
       "      <td>0</td>\n",
       "    </tr>\n",
       "    <tr>\n",
       "      <th>2</th>\n",
       "      <td>1</td>\n",
       "      <td>1</td>\n",
       "      <td>Cumings, Mrs. John Bradley (Florence Briggs Th...</td>\n",
       "      <td>female</td>\n",
       "      <td>38.0</td>\n",
       "      <td>1</td>\n",
       "      <td>0</td>\n",
       "    </tr>\n",
       "    <tr>\n",
       "      <th>3</th>\n",
       "      <td>1</td>\n",
       "      <td>3</td>\n",
       "      <td>Heikkinen, Miss. Laina</td>\n",
       "      <td>female</td>\n",
       "      <td>26.0</td>\n",
       "      <td>0</td>\n",
       "      <td>0</td>\n",
       "    </tr>\n",
       "    <tr>\n",
       "      <th>4</th>\n",
       "      <td>1</td>\n",
       "      <td>1</td>\n",
       "      <td>Futrelle, Mrs. Jacques Heath (Lily May Peel)</td>\n",
       "      <td>female</td>\n",
       "      <td>35.0</td>\n",
       "      <td>1</td>\n",
       "      <td>0</td>\n",
       "    </tr>\n",
       "    <tr>\n",
       "      <th>5</th>\n",
       "      <td>0</td>\n",
       "      <td>3</td>\n",
       "      <td>Allen, Mr. William Henry</td>\n",
       "      <td>male</td>\n",
       "      <td>35.0</td>\n",
       "      <td>0</td>\n",
       "      <td>0</td>\n",
       "    </tr>\n",
       "  </tbody>\n",
       "</table>\n",
       "</div>"
      ],
      "text/plain": [
       "             Survived  Pclass  \\\n",
       "PassengerId                     \n",
       "1                   0       3   \n",
       "2                   1       1   \n",
       "3                   1       3   \n",
       "4                   1       1   \n",
       "5                   0       3   \n",
       "\n",
       "                                                          Name     Sex   Age  \\\n",
       "PassengerId                                                                    \n",
       "1                                      Braund, Mr. Owen Harris    male  22.0   \n",
       "2            Cumings, Mrs. John Bradley (Florence Briggs Th...  female  38.0   \n",
       "3                                       Heikkinen, Miss. Laina  female  26.0   \n",
       "4                 Futrelle, Mrs. Jacques Heath (Lily May Peel)  female  35.0   \n",
       "5                                     Allen, Mr. William Henry    male  35.0   \n",
       "\n",
       "             SibSp  Parch  \n",
       "PassengerId                \n",
       "1                1      0  \n",
       "2                1      0  \n",
       "3                0      0  \n",
       "4                1      0  \n",
       "5                0      0  "
      ]
     },
     "execution_count": 2,
     "metadata": {},
     "output_type": "execute_result"
    }
   ],
   "source": [
    "# TRATANDO O DATAFRAME\n",
    "# Irei excluir as colunas dos números do ticket, valor da passagem e portão de embarque pois elas não nos oferecem \n",
    "# informações relevantes. Ps: o preço da passagem é relacionando com a classe do passageiro mas só precisamos da classe\n",
    "# e não o valor que ele pagou.\n",
    "# A coluna das Cabines achei uma boa informação, porém ela está muito fragmentada com espaços faltando e não podemos preenche-los\n",
    "# com as médias pois não faria sentido então resolvi descarta-la também.\n",
    "\n",
    "df_titanic.drop(columns=['Ticket', 'Fare', 'Cabin', 'Embarked'], inplace=True)\n",
    "df_titanic.head()"
   ]
  },
  {
   "cell_type": "code",
   "execution_count": 3,
   "metadata": {},
   "outputs": [
    {
     "data": {
      "text/plain": [
       "0"
      ]
     },
     "execution_count": 3,
     "metadata": {},
     "output_type": "execute_result"
    }
   ],
   "source": [
    "# Checando se há valores duplicados no dataframe.\n",
    "df_titanic.duplicated().sum()"
   ]
  },
  {
   "cell_type": "code",
   "execution_count": 4,
   "metadata": {},
   "outputs": [],
   "source": [
    "# Filtrando os sobreviventes e não sobreviventes para Dataframes distintos sem alterar o original.\n",
    "df_titanic_survived = df_titanic.query('Survived == 1')\n",
    "df_titanic_died = df_titanic.query('Survived == 0')"
   ]
  },
  {
   "cell_type": "code",
   "execution_count": 17,
   "metadata": {},
   "outputs": [],
   "source": [
    "# Criando uma função para retornar o Id do valor que mais aparece na coluna desejada.\n",
    "\n",
    "def maiorvalor(coluna_escolhida):\n",
    "    \"\"\" Captura a coluna escolhida do dataframe\n",
    "    e retornar o Id do valor que mais aparece nessa\n",
    "    coluna, serve para evitar a repetição de ter que digitar\n",
    "    os atributos value_counts e idxmax toda hora que precisar\n",
    "    desse valor.\n",
    "    \"\"\"\n",
    "    x = coluna_escolhida.value_counts().idxmax()\n",
    "    return x"
   ]
  },
  {
   "cell_type": "code",
   "execution_count": 16,
   "metadata": {},
   "outputs": [
    {
     "name": "stdout",
     "output_type": "stream",
     "text": [
      "O sexo que mais sobreviveu ao desastre do Titanic foi: female\n"
     ]
    }
   ],
   "source": [
    "# Verificando qual o sexo que mais sobreviveu no desastre do Titanic\n",
    "most_sex_survived = maiorvalor(df_titanic_survived['Sex'])\n",
    "print('O sexo que mais sobreviveu ao desastre do Titanic foi: {}'.format(most_sex_survived))"
   ]
  },
  {
   "cell_type": "code",
   "execution_count": 6,
   "metadata": {},
   "outputs": [
    {
     "name": "stderr",
     "output_type": "stream",
     "text": [
      "C:\\Users\\Dasdores\\Anaconda3\\lib\\site-packages\\ipykernel_launcher.py:3: SettingWithCopyWarning: \n",
      "A value is trying to be set on a copy of a slice from a DataFrame\n",
      "\n",
      "See the caveats in the documentation: http://pandas.pydata.org/pandas-docs/stable/indexing.html#indexing-view-versus-copy\n",
      "  This is separate from the ipykernel package so we can avoid doing imports until\n",
      "C:\\Users\\Dasdores\\Anaconda3\\lib\\site-packages\\ipykernel_launcher.py:4: SettingWithCopyWarning: \n",
      "A value is trying to be set on a copy of a slice from a DataFrame.\n",
      "Try using .loc[row_indexer,col_indexer] = value instead\n",
      "\n",
      "See the caveats in the documentation: http://pandas.pydata.org/pandas-docs/stable/indexing.html#indexing-view-versus-copy\n",
      "  after removing the cwd from sys.path.\n"
     ]
    },
    {
     "name": "stdout",
     "output_type": "stream",
     "text": [
      "As pessoas com a idade de 24 foram as que mais sobreviveram ao desastre do Titanic.\n"
     ]
    },
    {
     "data": {
      "text/plain": [
       "<matplotlib.axes._subplots.AxesSubplot at 0x237b4975978>"
      ]
     },
     "execution_count": 6,
     "metadata": {},
     "output_type": "execute_result"
    },
    {
     "data": {
      "image/png": "[encoded data removed]",
      "text/plain": [
       "<matplotlib.figure.Figure at 0x237b48fe828>"
      ]
     },
     "metadata": {},
     "output_type": "display_data"
    }
   ],
   "source": [
    "# verificando quais as idades que mais sobreviveram no desastre do Titanic. \n",
    "\n",
    "df_titanic_survived.dropna(axis=0, how='any', subset=['Age'], inplace=True)\n",
    "df_titanic_survived['Age'] = df_titanic_survived['Age'].astype('int64')\n",
    "df_titanic_survived['Age'].unique()\n",
    "\n",
    "print('As pessoas com a idade de {} foram as que mais sobreviveram ao desastre do Titanic.'.format(df_titanic_survived['Age'].value_counts().idxmax()))\n",
    "ax = df_titanic_survived['Age'].value_counts().plot(kind='bar', figsize=(20, 10), title='Gráfico das idades que mais sobreviveram');\n",
    "ax.set(xlabel=\"Idades\", ylabel=\"Quantidades de pessoas\")\n",
    "ax"
   ]
  },
  {
   "cell_type": "code",
   "execution_count": 7,
   "metadata": {},
   "outputs": [
    {
     "name": "stdout",
     "output_type": "stream",
     "text": [
      "Podemos perceber que a classe 1 e 3 foram as que mais sobreviveram.\n"
     ]
    },
    {
     "data": {
      "image/png": "[encoded data removed]",
      "text/plain": [
       "<matplotlib.figure.Figure at 0x237b4af21d0>"
      ]
     },
     "metadata": {},
     "output_type": "display_data"
    }
   ],
   "source": [
    "# Verificando quantos sobreviventes tiveram em cada classe.\n",
    "ay = df_titanic_survived['Pclass'].value_counts().plot(kind='bar', title='Gráfico de barras mostrando a classe que mais sobreviveu', grid=True);\n",
    "ay.set(xlabel=\"Classes\", ylabel=\"Quantidade de sobreviventes\")\n",
    "print('Podemos perceber que a classe 1 e 3 foram as que mais sobreviveram.')"
   ]
  },
  {
   "cell_type": "code",
   "execution_count": 9,
   "metadata": {},
   "outputs": [
    {
     "name": "stdout",
     "output_type": "stream",
     "text": [
      "A correlação dos sobreviventes é 0.02, o que evidencia que as variáveis tem relação entre si, porém é muito fraca se aproximando bastante de zero.\n"
     ]
    },
    {
     "data": {
      "image/png": "[encoded data removed]",
      "text/plain": [
       "<matplotlib.figure.Figure at 0x237b4b29208>"
      ]
     },
     "metadata": {},
     "output_type": "display_data"
    },
    {
     "name": "stdout",
     "output_type": "stream",
     "text": [
      "Portando podemos afirmar que o número de parentes presentes não influenciou de forma significante na sobrevivência dos passageiros.\n"
     ]
    }
   ],
   "source": [
    "# Verificando se há correlação entre a quantidade de sobreviventes e a quantidade de parentes.\n",
    "df_titanic['Parents'] = df_titanic.apply(lambda row: row.SibSp + row.Parch, axis=1)\n",
    "df_titanic.drop(columns=['SibSp', 'Parch'])\n",
    "\n",
    "corr = df_titanic['Survived'].corr(df_titanic['Parents'])\n",
    "corr = np.around(corr, decimals=2)\n",
    "if corr < 0 :\n",
    "    corr_status = 'Negativa'\n",
    "else:\n",
    "    corr_status = 'Positiva'\n",
    "\n",
    "print('A correlação dos sobreviventes é {}, o que evidencia que as variáveis tem relação entre si, porém é muito fraca se aproximando bastante de zero.'.format(corr, corr_status))\n",
    "\n",
    "plt.style.use('ggplot')\n",
    "\n",
    "plt.scatter(df_titanic['Survived'], df_titanic['Parents'])\n",
    "plt.title('Gráfico de Correlação entre as variáveis')\n",
    "plt.xlabel('Sobreviventes')\n",
    "plt.ylabel('Parentes')\n",
    "plt.show()\n",
    "\n",
    "print('Portando podemos afirmar que o número de parentes presentes não influenciou de forma significante na sobrevivência dos passageiros.')\n"
   ]
  },
  {
   "cell_type": "markdown",
   "metadata": {},
   "source": [
    "# Conclusões\n",
    "\n",
    "## Perguntas:\n",
    "\n",
    "**Qual a faixa de idade que mais sobreviveu ?**<br>\n",
    "Resposta: As pessoas com a idade de 24 foram as que mais sobreviveram ao desastre do Titanic.\n",
    "\n",
    "**Qual foi o sexo que mais sobreviveu ?**<br>\n",
    "O sexo que mais sobreviveu ao desastre do Titanic foi: feminino\n",
    "\n",
    "**Pessoas com parentes/conjûges sobreviveram mais devido o trabalho em conjunto para sobreviver ?**<br>\n",
    "Resposta: A correlação dos sobreviventes é 0.02, o que evidencia que as variáveis tem relação entre si, porém é muito fraca se aproximando bastante de zero, portando podemos afirmar que o número de parentes presentes não influenciou de forma significante na sobrevivência dos passageiros.\n",
    "\n",
    "**Qual a classe que mais sobreviveu ?**<br>\n",
    "Resposta: Podemos perceber que a classe 1 e 3 foram as que mais sobreviveram.\n",
    "\n",
    "## Limitações\n",
    "\n",
    "Encontrei dificuldade em saber quais dados deveria descartar e quais deveria manter para realizar a análise. Logo de início os dados sobre as idades estavam com muitos valores faltando, então tive que realizar a técnica de preencher com a média mas posteriormente descobri que isso iria afetar as respostas, tendênciando a quantidade que mais sobreviveu para a média pois existia muitos valores faltando que foram preenchidos com a média. Diante disso tive que realizar a exclusão dessas linhas para trabalhar somente com os dados concretos que possuía e consegui criar um gráfico para melhor visualização das idades que mais sobreviveram.<br> \n",
    "\n",
    "\n",
    "\n"
   ]
  }
 ],
 "metadata": {
  "kernelspec": {
   "display_name": "Python 3",
   "language": "python",
   "name": "python3"
  },
  "language_info": {
   "codemirror_mode": {
    "name": "ipython",
    "version": 3
   },
   "file_extension": ".py",
   "mimetype": "text/x-python",
   "name": "python",
   "nbconvert_exporter": "python",
   "pygments_lexer": "ipython3",
   "version": "3.6.4"
  }
 },
 "nbformat": 4,
 "nbformat_minor": 2
}
